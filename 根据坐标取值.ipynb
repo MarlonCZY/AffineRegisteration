{
 "cells": [
  {
   "cell_type": "code",
   "execution_count": 1,
   "metadata": {},
   "outputs": [],
   "source": [
    "import numpy as np"
   ]
  },
  {
   "cell_type": "code",
   "execution_count": 4,
   "metadata": {},
   "outputs": [],
   "source": [
    "x = np.random.rand(5,5)"
   ]
  },
  {
   "cell_type": "code",
   "execution_count": 5,
   "metadata": {},
   "outputs": [
    {
     "data": {
      "text/plain": [
       "array([[0.11479831, 0.195263  , 0.64891839, 0.73859072, 0.39628498],\n",
       "       [0.37967582, 0.78231385, 0.61653578, 0.74168636, 0.22288595],\n",
       "       [0.64291682, 0.79338278, 0.04702343, 0.67091818, 0.70776057],\n",
       "       [0.61528239, 0.22040707, 0.01201394, 0.08005694, 0.26766025],\n",
       "       [0.79365011, 0.66425956, 0.11476787, 0.21304019, 0.02676499]])"
      ]
     },
     "execution_count": 5,
     "metadata": {},
     "output_type": "execute_result"
    }
   ],
   "source": [
    "x"
   ]
  },
  {
   "cell_type": "code",
   "execution_count": 6,
   "metadata": {},
   "outputs": [
    {
     "data": {
      "text/plain": [
       "array([0.78231385, 0.04702343, 0.08005694, 0.02676499])"
      ]
     },
     "execution_count": 6,
     "metadata": {},
     "output_type": "execute_result"
    }
   ],
   "source": [
    "x_cor = [0,1,2,3,4]\n",
    "y_cor = [0,1,2,3,4]\n",
    "x[x_cor, y_cor]"
   ]
  },
  {
   "cell_type": "code",
   "execution_count": null,
   "metadata": {},
   "outputs": [],
   "source": []
  }
 ],
 "metadata": {
  "kernelspec": {
   "display_name": "Python 3",
   "language": "python",
   "name": "python3"
  },
  "language_info": {
   "codemirror_mode": {
    "name": "ipython",
    "version": 3
   },
   "file_extension": ".py",
   "mimetype": "text/x-python",
   "name": "python",
   "nbconvert_exporter": "python",
   "pygments_lexer": "ipython3",
   "version": "3.6.6"
  }
 },
 "nbformat": 4,
 "nbformat_minor": 2
}
