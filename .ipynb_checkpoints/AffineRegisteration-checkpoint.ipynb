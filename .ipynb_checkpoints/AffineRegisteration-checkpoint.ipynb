{
 "cells": [
  {
   "cell_type": "code",
   "execution_count": 2,
   "metadata": {},
   "outputs": [],
   "source": [
    "import numpy as np\n",
    "import matplotlib.pyplot as plt\n",
    "import scipy.ndimage\n",
    "import os\n",
    "from PIL import Image"
   ]
  },
  {
   "cell_type": "markdown",
   "metadata": {},
   "source": [
    "### 1. Affine Transformation"
   ]
  },
  {
   "cell_type": "code",
   "execution_count": 3,
   "metadata": {},
   "outputs": [],
   "source": [
    "inputImage = np.zeros((300, 200))\n",
    "inputImage[50:200, 20:100] = 100"
   ]
  },
  {
   "cell_type": "code",
   "execution_count": 4,
   "metadata": {},
   "outputs": [
    {
     "data": {
      "text/plain": [
       "<matplotlib.image.AxesImage at 0xb1453fba8>"
      ]
     },
     "execution_count": 4,
     "metadata": {},
     "output_type": "execute_result"
    },
    {
     "data": {
      "image/png": "[encoded data removed]",
      "text/plain": [
       "<Figure size 432x288 with 1 Axes>"
      ]
     },
     "metadata": {},
     "output_type": "display_data"
    }
   ],
   "source": [
    "plt.imshow(inputImage)"
   ]
  },
  {
   "cell_type": "code",
   "execution_count": 5,
   "metadata": {},
   "outputs": [],
   "source": [
    "# def calImageDer(img, dimension):\n",
    "#     img_shape = img.shape\n",
    "#     res = np.zeros(img_shape)\n",
    "#     if dimension == \"x\":\n",
    "#         for i in range(img_shape[0]):\n",
    "#             for j in range(img_shape[1]):\n",
    "#                 if j == 0 or j == (img_shape[1] - 1):\n",
    "#                     res[i][j] = img[i][j] - 0\n",
    "#                 else:\n",
    "#                     res[i][j] = img[i][j + 1] - img[i][j - 1]\n",
    "#     if dimension == \"y\":\n",
    "#         for i in range(img_shape[0]):\n",
    "#             for j in range(img_shape[1]):\n",
    "#                 if i == 0 or i == (img_shape[0] - 1):\n",
    "#                     res[i][j] = img[i][j] - 0\n",
    "#                 else:\n",
    "#                     res[i][j] = img[i+1][j] - img[i-1][j]\n",
    "#     return res"
   ]
  },
  {
   "cell_type": "code",
   "execution_count": 6,
   "metadata": {},
   "outputs": [],
   "source": [
    "def calYGradient(source, newPixel):\n",
    "    x, y = newPixel[0], newPixel[1]\n",
    "    x0, x1 = int(x), int(x)+1\n",
    "    y0, y1 = int(y), int(y)+1\n",
    "    fr1 = (source[x0][y0] + source[x1][y0]) / 2\n",
    "    fr2 = (source[x0][y1] + source[x1][y1]) / 2\n",
    "    fp = (fr2 - fr1) / 2\n",
    "    return fp"
   ]
  },
  {
   "cell_type": "code",
   "execution_count": 7,
   "metadata": {},
   "outputs": [],
   "source": [
    "def calXGradient(source, newPixel):\n",
    "    x, y = newPixel[0], newPixel[1]\n",
    "    x0, x1 = int(x), int(x)+1\n",
    "    y0, y1 = int(y), int(y)+1\n",
    "    fr1 = (source[x0][y0] + source[x0][y1]) / 2\n",
    "    fr2 = (source[x1][y0] + source[x1][y1]) / 2\n",
    "    fp = (fr2 - fr1) / 2\n",
    "    return fp"
   ]
  },
  {
   "cell_type": "code",
   "execution_count": 8,
   "metadata": {},
   "outputs": [],
   "source": [
    "# need to be implemented in Numpy\n",
    "def interpolate(source, newPixel):\n",
    "    x, y = newPixel[0], newPixel[1]\n",
    "    x0, x1 = int(x), int(x)+1\n",
    "    y0, y1 = int(y), int(y)+1\n",
    "    # Calculate gradient of I(x, y)\n",
    "#     fp = ((1-(y-y0))*(source[source[]]))\n",
    "#     fr1 = source[x0][y0]*(x1-x)/(x1-x0) + source[x1][y0]*(x-x0)/(x1-x0)\n",
    "#     fr2 = source[x0][y1]*(x1-x)/(x1-x0) + source[x1][y1]*(x-x0)/(x1-x0)\n",
    "    fp = (y1-y)/(y1-y0)*fr1 + (y-y0)/(y1-y0)*fr2\n",
    "    return fp"
   ]
  },
  {
   "cell_type": "code",
   "execution_count": 9,
   "metadata": {},
   "outputs": [],
   "source": [
    "# need to be implemented in Numpy\n",
    "def bilinearInterpolate(source, transformedImage, matrix):\n",
    "    shape = transformedImage.shape\n",
    "    gradientXMatrix = np.zeros(shape)\n",
    "    gradientYMatrix = np.zeros(shape)\n",
    "    for i in range(shape[0]):\n",
    "        for j in range(shape[1]):\n",
    "            pixel = np.array([i, j, 1]).reshape(-1, 1) # pixel position in transformed image\n",
    "            newPixel = np.dot(matrix, pixel) # corresponding postion in source image\n",
    "            newPixel = newPixel.flatten()\n",
    "            if newPixel[0] < shape[0]-1 and newPixel[0] > 0 and newPixel[1] < shape[1]-1 and newPixel[1] > 0:\n",
    "                transformedImage[i][j] = interpolate(source, newPixel)\n",
    "                gradientXMatrix[i][j] = calXGradient(source, newPixel)\n",
    "                gradientYMatrix[i][j] = calYGradient(source, newPixel)\n",
    "                \n",
    "    return gradientXMatrix, gradientYMatrix"
   ]
  },
  {
   "cell_type": "code",
   "execution_count": 10,
   "metadata": {},
   "outputs": [],
   "source": [
    "def buildXMatrix(img, dimension):\n",
    "    img_shape = img.shape\n",
    "    res = np.zeros(img_shape)\n",
    "    if dimension == \"x\":\n",
    "        for i in range(img_shape[0]):\n",
    "            for j in range(img_shape[1]):\n",
    "                res[i][j] = i\n",
    "    if dimension == \"y\":\n",
    "        for i in range(img_shape[0]):\n",
    "            for j in range(img_shape[1]):\n",
    "                res[i][j] = j\n",
    "    return res"
   ]
  },
  {
   "cell_type": "code",
   "execution_count": 17,
   "metadata": {},
   "outputs": [
    {
     "data": {
      "text/plain": [
       "<matplotlib.image.AxesImage at 0xb14d79208>"
      ]
     },
     "execution_count": 17,
     "metadata": {},
     "output_type": "execute_result"
    },
    {
     "data": {
      "image/png": "[encoded data removed]",
      "text/plain": [
       "<Figure size 432x288 with 1 Axes>"
      ]
     },
     "metadata": {},
     "output_type": "display_data"
    }
   ],
   "source": [
    "reference = np.zeros(inputImage.shape)\n",
    "matrix = np.array([[1.2, 0.03, -80.0],[0.02, 1.1, -40],[0, 0, 1.0]])\n",
    "\n",
    "bilinearInterpolate(inputImage, reference, matrix)\n",
    "# reference = scipy.ndimage.affine_transform(input=inputImage, matrix=matrix)\n",
    "plt.imshow(reference)"
   ]
  },
  {
   "cell_type": "code",
   "execution_count": 18,
   "metadata": {},
   "outputs": [
    {
     "data": {
      "text/plain": [
       "(array([[0., 0., 0., ..., 0., 0., 0.],\n",
       "        [0., 0., 0., ..., 0., 0., 0.],\n",
       "        [0., 0., 0., ..., 0., 0., 0.],\n",
       "        ...,\n",
       "        [0., 0., 0., ..., 0., 0., 0.],\n",
       "        [0., 0., 0., ..., 0., 0., 0.],\n",
       "        [0., 0., 0., ..., 0., 0., 0.]]), array([[0., 0., 0., ..., 0., 0., 0.],\n",
       "        [0., 0., 0., ..., 0., 0., 0.],\n",
       "        [0., 0., 0., ..., 0., 0., 0.],\n",
       "        ...,\n",
       "        [0., 0., 0., ..., 0., 0., 0.],\n",
       "        [0., 0., 0., ..., 0., 0., 0.],\n",
       "        [0., 0., 0., ..., 0., 0., 0.]]))"
      ]
     },
     "execution_count": 18,
     "metadata": {},
     "output_type": "execute_result"
    }
   ],
   "source": [
    "moving = np.zeros(inputImage.shape)\n",
    "sameMatrix =np.array([[1, 0, 0],[0, 1, 0],[0, 0, 1]])\n",
    "bilinearInterpolate(inputImage, moving, matrix)"
   ]
  },
  {
   "cell_type": "code",
   "execution_count": 20,
   "metadata": {},
   "outputs": [
    {
     "name": "stdout",
     "output_type": "stream",
     "text": [
      "loss:  120246515.9396\n",
      "loss:  44809324.413258545\n",
      "loss:  40139542.687046885\n",
      "loss:  35616809.16780315\n",
      "[[  1.16186912  -0.5141328  -20.14657368]\n",
      " [ -0.10276263   1.19420995 -18.93322116]\n",
      " [  0.           0.           1.        ]]\n"
     ]
    },
    {
     "data": {
      "image/png": "[encoded data removed]",
      "text/plain": [
       "<Figure size 432x288 with 1 Axes>"
      ]
     },
     "metadata": {},
     "output_type": "display_data"
    },
    {
     "data": {
      "image/png": "[encoded data removed]",
      "text/plain": [
       "<Figure size 432x288 with 1 Axes>"
      ]
     },
     "metadata": {},
     "output_type": "display_data"
    },
    {
     "data": {
      "image/png": "[encoded data removed]",
      "text/plain": [
       "<Figure size 432x288 with 1 Axes>"
      ]
     },
     "metadata": {},
     "output_type": "display_data"
    },
    {
     "data": {
      "image/png": "[encoded data removed]",
      "text/plain": [
       "<Figure size 432x288 with 1 Axes>"
      ]
     },
     "metadata": {},
     "output_type": "display_data"
    }
   ],
   "source": [
    "a, b, tx, c, d, ty = 1, 0, 0, 0, 1, 0\n",
    "speed = 1e-9\n",
    "translationSpeed = 1e-6\n",
    "iterate = 200\n",
    "n = 0\n",
    "# moving = inputImage[:][:]\n",
    "while  n < iterate:\n",
    "    paraMatrix = np.array([[a, b, tx], [c, d, ty], [0, 0, 1]])\n",
    "    gradX, gradY = bilinearInterpolate(inputImage, moving, paraMatrix)\n",
    "    delta_a = speed * np.sum((moving-reference) * gradX * buildXMatrix(moving, \"x\"))\n",
    "    delta_b = speed * np.sum((moving-reference) * gradX * buildXMatrix(moving, \"y\"))\n",
    "    delta_tx = translationSpeed * np.sum((moving-reference) *gradX)\n",
    "    delta_c = speed * np.sum((moving-reference) * gradY * buildXMatrix(moving, \"x\"))\n",
    "    delta_d = speed * np.sum((moving-reference) * gradY * buildXMatrix(moving, \"y\"))\n",
    "    delta_ty = translationSpeed * np.sum((moving-reference) * gradY)\n",
    "    a -= delta_a\n",
    "    b -= delta_b\n",
    "    tx -= delta_tx\n",
    "    c -= delta_c\n",
    "    d -= delta_d\n",
    "    ty -= delta_ty\n",
    "#     print(gradX[40:60], gradY[40:60])\n",
    "#     print(\"loss\", np.sum((moving - reference)**2))\n",
    "#     moving = scipy.ndimage.affine_transform(input=inputImage, matrix=paraMatrix)\n",
    "    if n%50 == 0:\n",
    "        plt.figure(n//40)\n",
    "        plt.imshow(moving)\n",
    "        print(\"loss: \", np.sum((moving - reference)**2))\n",
    "\n",
    "\n",
    "    n += 1\n",
    "    \n",
    "plt.imshow(moving)\n",
    "print(paraMatrix)\n",
    "\n"
   ]
  },
  {
   "cell_type": "code",
   "execution_count": 21,
   "metadata": {},
   "outputs": [
    {
     "name": "stdout",
     "output_type": "stream",
     "text": [
      "32352532.178612325\n",
      "[[0. 0. 0. ... 0. 0. 0.]\n",
      " [0. 0. 0. ... 0. 0. 0.]\n",
      " [0. 0. 0. ... 0. 0. 0.]\n",
      " ...\n",
      " [0. 0. 0. ... 0. 0. 0.]\n",
      " [0. 0. 0. ... 0. 0. 0.]\n",
      " [0. 0. 0. ... 0. 0. 0.]]\n",
      "[[0. 0. 0. ... 0. 0. 0.]\n",
      " [0. 0. 0. ... 0. 0. 0.]\n",
      " [0. 0. 0. ... 0. 0. 0.]\n",
      " ...\n",
      " [0. 0. 0. ... 0. 0. 0.]\n",
      " [0. 0. 0. ... 0. 0. 0.]\n",
      " [0. 0. 0. ... 0. 0. 0.]]\n"
     ]
    },
    {
     "data": {
      "image/png": "[encoded data removed]",
      "text/plain": [
       "<Figure size 432x288 with 1 Axes>"
      ]
     },
     "metadata": {},
     "output_type": "display_data"
    },
    {
     "data": {
      "image/png": "[encoded data removed]",
      "text/plain": [
       "<Figure size 432x288 with 1 Axes>"
      ]
     },
     "metadata": {},
     "output_type": "display_data"
    },
    {
     "data": {
      "image/png": "[encoded data removed]",
      "text/plain": [
       "<Figure size 432x288 with 1 Axes>"
      ]
     },
     "metadata": {},
     "output_type": "display_data"
    }
   ],
   "source": [
    "print(np.sum((moving - reference)**2))\n",
    "plt.figure(3)\n",
    "plt.imshow(inputImage)\n",
    "plt.figure(1)\n",
    "plt.imshow(moving)\n",
    "print(moving)\n",
    "plt.figure(2)\n",
    "plt.imshow(reference)\n",
    "print(reference)"
   ]
  },
  {
   "cell_type": "code",
   "execution_count": null,
   "metadata": {},
   "outputs": [],
   "source": []
  },
  {
   "cell_type": "code",
   "execution_count": null,
   "metadata": {},
   "outputs": [],
   "source": []
  },
  {
   "cell_type": "code",
   "execution_count": null,
   "metadata": {},
   "outputs": [],
   "source": []
  },
  {
   "cell_type": "code",
   "execution_count": null,
   "metadata": {},
   "outputs": [],
   "source": []
  }
 ],
 "metadata": {
  "kernelspec": {
   "display_name": "Python [conda env:Titanic]",
   "language": "python",
   "name": "conda-env-Titanic-py"
  },
  "language_info": {
   "codemirror_mode": {
    "name": "ipython",
    "version": 3
   },
   "file_extension": ".py",
   "mimetype": "text/x-python",
   "name": "python",
   "nbconvert_exporter": "python",
   "pygments_lexer": "ipython3",
   "version": "3.6.6"
  },
  "nbpresent": {
   "slides": {},
   "themes": {
    "default": "2e048c94-eafa-48e8-a830-bdf680d223e0",
    "theme": {
     "2e048c94-eafa-48e8-a830-bdf680d223e0": {
      "backgrounds": {
       "backgroundColor": {
        "background-color": "backgroundColor",
        "id": "backgroundColor"
       }
      },
      "id": "2e048c94-eafa-48e8-a830-bdf680d223e0",
      "palette": {
       "backgroundColor": {
        "id": "backgroundColor",
        "rgb": [
         34,
         34,
         34
        ]
       },
       "headingColor": {
        "id": "headingColor",
        "rgb": [
         256,
         256,
         256
        ]
       },
       "linkColor": {
        "id": "linkColor",
        "rgb": [
         66,
         175,
         250
        ]
       },
       "mainColor": {
        "id": "mainColor",
        "rgb": [
         256,
         256,
         256
        ]
       }
      },
      "rules": {
       "a": {
        "color": "linkColor"
       },
       "h1": {
        "color": "headingColor",
        "font-family": "Source Sans Pro",
        "font-size": 5.25
       },
       "h2": {
        "color": "headingColor",
        "font-family": "Source Sans Pro",
        "font-size": 4
       },
       "h3": {
        "color": "headingColor",
        "font-family": "Source Sans Pro",
        "font-size": 3.5
       },
       "h4": {
        "color": "headingColor",
        "font-family": "Source Sans Pro",
        "font-size": 3
       },
       "h5": {
        "color": "headingColor",
        "font-family": "Source Sans Pro"
       },
       "h6": {
        "color": "headingColor",
        "font-family": "Source Sans Pro"
       },
       "h7": {
        "color": "headingColor",
        "font-family": "Source Sans Pro"
       },
       "li": {
        "color": "mainColor",
        "font-family": "Source Sans Pro",
        "font-size": 6
       },
       "p": {
        "color": "mainColor",
        "font-family": "Source Sans Pro",
        "font-size": 6
       }
      },
      "text-base": {
       "color": "mainColor",
       "font-family": "Source Sans Pro",
       "font-size": 6
      }
     }
    }
   }
  }
 },
 "nbformat": 4,
 "nbformat_minor": 2
}
