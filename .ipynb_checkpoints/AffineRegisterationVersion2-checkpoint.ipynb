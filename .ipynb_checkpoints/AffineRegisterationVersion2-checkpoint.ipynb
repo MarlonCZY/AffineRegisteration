{
 "cells": [
  {
   "cell_type": "code",
   "execution_count": 2,
   "metadata": {},
   "outputs": [],
   "source": [
    "import numpy as np\n",
    "import matplotlib.pyplot as plt"
   ]
  },
  {
   "cell_type": "markdown",
   "metadata": {},
   "source": [
    "### Functions: "
   ]
  },
  {
   "cell_type": "code",
   "execution_count": 3,
   "metadata": {},
   "outputs": [],
   "source": [
    "# point:[x, y, 1], template\n",
    "def calGradient(point, template):\n",
    "    x0, y0 = point[0], point[1]\n",
    "    k00, k10, k01, k11 = (int(x0), int(y0)), (int(x0)+1, int(y0)), (int(x0), int(y0)+1), (int(x0)+1, int(y0)+1)\n",
    "    "
   ]
  },
  {
   "cell_type": "code",
   "execution_count": null,
   "metadata": {},
   "outputs": [],
   "source": [
    "def interpolate(template, projectMatrix):\n",
    "    "
   ]
  },
  {
   "cell_type": "code",
   "execution_count": 4,
   "metadata": {},
   "outputs": [],
   "source": [
    "def biInterpolate(template, transImage, matrix):\n",
    "    yShape, xShape = template.shape\n",
    "    coorMatrix = np.asarray(np.meshgrid(np.arange(xShape), np.arange(yShape)))\n",
    "    coorMatrix = np.rollaxis(coorMatrix, 0, 3)\n",
    "    onesMatrix = np.ones(template.shape).reshape(yShape, xShape, 1)\n",
    "    coorMatrix = np.concatenate((coorMatrix, onesMatrix), axis=2)\n",
    "    projectMatrix = np.dot(coorMatrix, transformMatrix.T) # the coordinate matrix of transformed image\n",
    "    \n",
    "    "
   ]
  },
  {
   "cell_type": "markdown",
   "metadata": {},
   "source": [
    "### 1. create template image"
   ]
  },
  {
   "cell_type": "code",
   "execution_count": 5,
   "metadata": {},
   "outputs": [
    {
     "data": {
      "text/plain": [
       "Text(0, 0.5, 'y')"
      ]
     },
     "execution_count": 5,
     "metadata": {},
     "output_type": "execute_result"
    },
    {
     "data": {
      "image/png": "[encoded data removed]",
      "text/plain": [
       "<Figure size 432x288 with 1 Axes>"
      ]
     },
     "metadata": {},
     "output_type": "display_data"
    }
   ],
   "source": [
    "# initialize a zero template\n",
    "M, N = 300, 400\n",
    "template = np.zeros((M, N))\n",
    "# draw a box on template\n",
    "template[50:200, 60:220] = 10\n",
    "template[60:100, 70:100] = 20\n",
    "plt.imshow(template)\n",
    "plt.xlabel(\"x\")\n",
    "plt.ylabel(\"y\")"
   ]
  },
  {
   "cell_type": "markdown",
   "metadata": {},
   "source": [
    "### 2. create reference image"
   ]
  },
  {
   "cell_type": "code",
   "execution_count": 10,
   "metadata": {},
   "outputs": [],
   "source": [
    "reference = np.zeros(template.shape)\n",
    "transformMatrix = np.array([[0.95, 0.0, 10.0],[0.0, 1.0, 0.0],[0.0, 0.0, 1.0]])\n"
   ]
  },
  {
   "cell_type": "code",
   "execution_count": 19,
   "metadata": {},
   "outputs": [
    {
     "name": "stdout",
     "output_type": "stream",
     "text": [
      "[[[ 10.     0.     1.  ]\n",
      "  [ 10.95   0.     1.  ]\n",
      "  [ 11.9    0.     1.  ]\n",
      "  ...\n",
      "  [387.15   0.     1.  ]\n",
      "  [388.1    0.     1.  ]\n",
      "  [389.05   0.     1.  ]]\n",
      "\n",
      " [[ 10.     1.     1.  ]\n",
      "  [ 10.95   1.     1.  ]\n",
      "  [ 11.9    1.     1.  ]\n",
      "  ...\n",
      "  [387.15   1.     1.  ]\n",
      "  [388.1    1.     1.  ]\n",
      "  [389.05   1.     1.  ]]\n",
      "\n",
      " [[ 10.     2.     1.  ]\n",
      "  [ 10.95   2.     1.  ]\n",
      "  [ 11.9    2.     1.  ]\n",
      "  ...\n",
      "  [387.15   2.     1.  ]\n",
      "  [388.1    2.     1.  ]\n",
      "  [389.05   2.     1.  ]]\n",
      "\n",
      " ...\n",
      "\n",
      " [[ 10.   297.     1.  ]\n",
      "  [ 10.95 297.     1.  ]\n",
      "  [ 11.9  297.     1.  ]\n",
      "  ...\n",
      "  [387.15 297.     1.  ]\n",
      "  [388.1  297.     1.  ]\n",
      "  [389.05 297.     1.  ]]\n",
      "\n",
      " [[ 10.   298.     1.  ]\n",
      "  [ 10.95 298.     1.  ]\n",
      "  [ 11.9  298.     1.  ]\n",
      "  ...\n",
      "  [387.15 298.     1.  ]\n",
      "  [388.1  298.     1.  ]\n",
      "  [389.05 298.     1.  ]]\n",
      "\n",
      " [[ 10.   299.     1.  ]\n",
      "  [ 10.95 299.     1.  ]\n",
      "  [ 11.9  299.     1.  ]\n",
      "  ...\n",
      "  [387.15 299.     1.  ]\n",
      "  [388.1  299.     1.  ]\n",
      "  [389.05 299.     1.  ]]]\n",
      "(300, 400, 3)\n",
      "(300, 400, 3)\n"
     ]
    },
    {
     "data": {
      "text/plain": [
       "array([[  0,   0,   0, ...,   0,   0,   0],\n",
       "       [  1,   1,   1, ...,   1,   1,   1],\n",
       "       [  2,   2,   2, ...,   2,   2,   2],\n",
       "       ...,\n",
       "       [297, 297, 297, ..., 297, 297, 297],\n",
       "       [298, 298, 298, ..., 298, 298, 298],\n",
       "       [299, 299, 299, ..., 299, 299, 299]])"
      ]
     },
     "execution_count": 19,
     "metadata": {},
     "output_type": "execute_result"
    }
   ],
   "source": [
    "yShape, xShape = template.shape\n",
    "coorMatrix = np.asarray(np.meshgrid(np.arange(xShape), np.arange(yShape)))\n",
    "coorMatrix = np.rollaxis(coorMatrix, 0, 3)\n",
    "onesMatrix = np.ones(template.shape).reshape(yShape, xShape, 1)\n",
    "coorMatrix = np.concatenate((coorMatrix, onesMatrix), axis=2)\n",
    "\n",
    "projectMatrix = np.dot(coorMatrix, transformMatrix.T) # the coordinate matrix of transformed image\n",
    "\n",
    "# projectXMatrix[projectXMatrix<0] = 0\n",
    "# projectXMatrix[projectXMatrix>(xShape-1)] = 0\n",
    "# projectXMatrix"
   ]
  },
  {
   "cell_type": "code",
   "execution_count": null,
   "metadata": {},
   "outputs": [],
   "source": []
  },
  {
   "cell_type": "code",
   "execution_count": null,
   "metadata": {},
   "outputs": [],
   "source": []
  }
 ],
 "metadata": {
  "kernelspec": {
   "display_name": "Python [conda env:Titanic]",
   "language": "python",
   "name": "conda-env-Titanic-py"
  },
  "language_info": {
   "codemirror_mode": {
    "name": "ipython",
    "version": 3
   },
   "file_extension": ".py",
   "mimetype": "text/x-python",
   "name": "python",
   "nbconvert_exporter": "python",
   "pygments_lexer": "ipython3",
   "version": "3.6.6"
  }
 },
 "nbformat": 4,
 "nbformat_minor": 2
}
