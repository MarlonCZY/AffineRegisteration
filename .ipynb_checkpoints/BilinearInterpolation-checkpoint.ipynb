{
 "cells": [
  {
   "cell_type": "markdown",
   "metadata": {},
   "source": [
    "### Bilinear Interpolation Implementation"
   ]
  },
  {
   "cell_type": "code",
   "execution_count": 43,
   "metadata": {},
   "outputs": [],
   "source": [
    "import numpy as np\n",
    "import matplotlib.pyplot as plt"
   ]
  },
  {
   "cell_type": "code",
   "execution_count": 44,
   "metadata": {},
   "outputs": [
    {
     "data": {
      "text/plain": [
       "<matplotlib.image.AxesImage at 0x11607aa58>"
      ]
     },
     "execution_count": 44,
     "metadata": {},
     "output_type": "execute_result"
    },
    {
     "data": {
      "image/png": "[encoded data removed]",
      "text/plain": [
       "<Figure size 432x288 with 1 Axes>"
      ]
     },
     "metadata": {},
     "output_type": "display_data"
    }
   ],
   "source": [
    "# Define source image\n",
    "sourceImage = np.zeros((300, 200))\n",
    "sourceImage[50:150, 100:150] = 100\n",
    "plt.imshow(sourceImage)"
   ]
  },
  {
   "cell_type": "code",
   "execution_count": 83,
   "metadata": {},
   "outputs": [],
   "source": [
    "# Define Transform Matrix\n",
    "inverseMatrix = np.array([\n",
    "    [0.9, 0.1, 20],\n",
    "    [0, 0.5, 59.5], \n",
    "    [0, 0, 1]])"
   ]
  },
  {
   "cell_type": "code",
   "execution_count": null,
   "metadata": {},
   "outputs": [],
   "source": [
    "def calXGradient(source, newPixel):\n",
    "    x0, x1 = int(x), int(x)+1\n",
    "    y0, y1 = int(y), int(y)+1\n",
    "    fr1 = (source[x0][y0] + source[x1][y0]) / 2\n",
    "    fr2 = (source[x0][y1] + source[x1][y1]) / 2\n",
    "    fp = (fr1 + fr2) / 2\n",
    "    return \n",
    "    "
   ]
  },
  {
   "cell_type": "code",
   "execution_count": 84,
   "metadata": {},
   "outputs": [],
   "source": [
    "def interpolate(source, newPixel):\n",
    "    x, y = newPixel[0], newPixel[1]\n",
    "    x0, x1 = int(x), int(x)+1\n",
    "    y0, y1 = int(y), int(y)+1\n",
    "    fr1 = source[x0][y0]*(x1-x)/(x1-x0) + source[x1][y0]*(x-x0)/(x1-x0)\n",
    "    fr2 = source[x0][y1]*(x1-x)/(x1-x0) + source[x1][y1]*(x-x0)/(x1-x0)\n",
    "    fp = (y1-y)/(y1-y0)*fr1 + (y-y0)/(y1-y0)*fr2\n",
    "    return fp"
   ]
  },
  {
   "cell_type": "code",
   "execution_count": 85,
   "metadata": {},
   "outputs": [],
   "source": [
    "def bilinearInterpolate(source, transformedImage, matrix):\n",
    "    shape = transformedImage.shape\n",
    "    gradientYMatrix = np.zeros(shape)\n",
    "    for i in range(shape[0]):\n",
    "        for j in range(shape[1]):\n",
    "            pixel = np.array([i, j, 1]).reshape(-1, 1) # pixel position in transformed image\n",
    "            newPixel = np.dot(matrix, pixel) # corresponding postion in source image\n",
    "            newPixel = newPixel.flatten()\n",
    "            if newPixel[0] < shape[0]-1 and newPixel[0] > 0 and newPixel[1] < shape[1]-1 and newPixel[1] > 0:\n",
    "                transformedImage[i][j] = interpolate(source, newPixel)\n",
    "                \n",
    "                \n",
    "    print(transformedImage)\n",
    "    "
   ]
  },
  {
   "cell_type": "code",
   "execution_count": 86,
   "metadata": {},
   "outputs": [
    {
     "name": "stdout",
     "output_type": "stream",
     "text": [
      "[[0. 0. 0. ... 0. 0. 0.]\n",
      " [0. 0. 0. ... 0. 0. 0.]\n",
      " [0. 0. 0. ... 0. 0. 0.]\n",
      " ...\n",
      " [0. 0. 0. ... 0. 0. 0.]\n",
      " [0. 0. 0. ... 0. 0. 0.]\n",
      " [0. 0. 0. ... 0. 0. 0.]]\n"
     ]
    }
   ],
   "source": [
    "transformedImage = np.zeros(sourceImage.shape)\n",
    "bilinearInterpolate(sourceImage, transformedImage, inverseMatrix)"
   ]
  },
  {
   "cell_type": "code",
   "execution_count": 89,
   "metadata": {},
   "outputs": [
    {
     "name": "stdout",
     "output_type": "stream",
     "text": [
      "[[100. 100. 100. ... 100. 100. 100.]\n",
      " [100. 100. 100. ... 100. 100. 100.]\n",
      " [100. 100. 100. ... 100. 100. 100.]\n",
      " ...\n",
      " [  0.   0.   0. ...   0.   0.   0.]\n",
      " [  0.   0.   0. ...   0.   0.   0.]\n",
      " [  0.   0.   0. ...   0.   0.   0.]]\n"
     ]
    },
    {
     "data": {
      "text/plain": [
       "<matplotlib.image.AxesImage at 0x116cddc88>"
      ]
     },
     "execution_count": 89,
     "metadata": {},
     "output_type": "execute_result"
    },
    {
     "data": {
      "image/png": "[encoded data removed]",
      "text/plain": [
       "<Figure size 432x288 with 1 Axes>"
      ]
     },
     "metadata": {},
     "output_type": "display_data"
    },
    {
     "data": {
      "image/png": "[encoded data removed]",
      "text/plain": [
       "<Figure size 432x288 with 1 Axes>"
      ]
     },
     "metadata": {},
     "output_type": "display_data"
    }
   ],
   "source": []
  },
  {
   "cell_type": "code",
   "execution_count": null,
   "metadata": {},
   "outputs": [],
   "source": []
  },
  {
   "cell_type": "code",
   "execution_count": null,
   "metadata": {},
   "outputs": [],
   "source": []
  }
 ],
 "metadata": {
  "kernelspec": {
   "display_name": "Python [conda env:Titanic]",
   "language": "python",
   "name": "conda-env-Titanic-py"
  },
  "language_info": {
   "codemirror_mode": {
    "name": "ipython",
    "version": 3
   },
   "file_extension": ".py",
   "mimetype": "text/x-python",
   "name": "python",
   "nbconvert_exporter": "python",
   "pygments_lexer": "ipython3",
   "version": "3.6.7"
  }
 },
 "nbformat": 4,
 "nbformat_minor": 2
}
