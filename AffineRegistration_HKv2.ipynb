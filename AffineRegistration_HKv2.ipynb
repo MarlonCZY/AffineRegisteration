{
 "cells": [
  {
   "cell_type": "code",
   "execution_count": 1,
   "metadata": {},
   "outputs": [],
   "source": [
    "import tensorflow as tf\n",
    "import numpy as np\n",
    "import matplotlib.pyplot as plt\n",
    "import scipy"
   ]
  },
  {
   "cell_type": "code",
   "execution_count": 2,
   "metadata": {},
   "outputs": [
    {
     "data": {
      "text/plain": [
       "Text(0.5,1,'template')"
      ]
     },
     "execution_count": 2,
     "metadata": {},
     "output_type": "execute_result"
    },
    {
     "data": {
      "image/png": "[encoded data removed]",
      "text/plain": [
       "<Figure size 1440x720 with 2 Axes>"
      ]
     },
     "metadata": {},
     "output_type": "display_data"
    }
   ],
   "source": [
    "#define the reference image\n",
    "reference = np.zeros((50, 50))\n",
    "reference[10:20, 10:20] = 200\n",
    "\n",
    "#define the template image\n",
    "template = np.zeros_like(reference)\n",
    "template[30:40, 30:40] = 200\n",
    "\n",
    "fig, (ax0, ax1) = plt.subplots(1, 2, figsize=(20, 10))\n",
    "ax0.imshow(reference)\n",
    "ax0.set_title(\"reference\")\n",
    "ax1.imshow(template)\n",
    "ax1.set_title(\"template\")"
   ]
  },
  {
   "cell_type": "code",
   "execution_count": 3,
   "metadata": {},
   "outputs": [],
   "source": [
    "def getGrid_r(M, N):\n",
    "    #create the reference space [M, N, 3]\n",
    "    grid_r = np.asarray(np.meshgrid(np.arange(M), np.arange(N), indexing = 'ij'))\n",
    "    grid_r = np.rollaxis(grid_r, 0, 3)\n",
    "    grid_r = np.concatenate((grid_r[:,:,0].reshape([M,N,1]), grid_r[:,:,1].reshape([M,N,1]), np.ones([M, N, 1])), axis = 2)\n",
    "    # print(grid_r)\n",
    "    return grid_r"
   ]
  },
  {
   "cell_type": "code",
   "execution_count": 4,
   "metadata": {},
   "outputs": [],
   "source": [
    "def getTrans(trans_matrix, grid_r):\n",
    "    #create the rigid transformation\n",
    "    rg_trans = grid_r.dot(trans_matrix.T)\n",
    "    rg_trans = np.split(rg_trans, [2], axis=2)[0]\n",
    "    print(rg_trans.shape)\n",
    "    # print(rg_trans[2][1])\n",
    "    return rg_trans"
   ]
  },
  {
   "cell_type": "code",
   "execution_count": 5,
   "metadata": {},
   "outputs": [],
   "source": [
    "def getCoordinate(rg_trans):\n",
    "    #split the rg_transformation\n",
    "    y1_rg, y2_rg = np.split(rg_trans,[1], axis=2)\n",
    "    # y1_rg,y2 _rg shape = (M, N)\n",
    "    y1_rg = y1_rg.squeeze()\n",
    "    y2_rg = y2_rg.squeeze()\n",
    "    # crate the floor, ceil coordinate\n",
    "    y1_floor = np.floor(y1_rg).astype(int)\n",
    "    y1_ceil = np.floor(y1_rg+1).astype(int)\n",
    "    y2_floor = np.floor(y2_rg).astype(int)\n",
    "    y2_ceil = np.floor(y2_rg+1).astype(int)\n",
    "\n",
    "    floor_ceil = [y1_floor, y1_ceil, y2_floor, y2_ceil]\n",
    "    y1_y2_rg = [y1_rg, y2_rg]\n",
    "    #temp_00_coor -> (y1_floor, y2_floor)\n",
    "    #temp_10_coor -> (y1_ceil, y2_floor)\n",
    "    #temp_01_coor -> (y1_floor, y2_ceil)\n",
    "    #temp_11_coor -> (y1_ceil, y2_ceil)\n",
    "    return floor_ceil, y1_y2_rg"
   ]
  },
  {
   "cell_type": "code",
   "execution_count": 6,
   "metadata": {},
   "outputs": [],
   "source": [
    "def bilinear(floor_ceil, y1_y2_rg, template):\n",
    "    [y1_rg, y2_rg] = y1_y2_rg\n",
    "    [y1_floor, y1_ceil, y2_floor, y2_ceil] = floor_ceil\n",
    "    temp_00 = map_template(y1_floor, y2_floor, template)\n",
    "    temp_10 = map_template(y1_ceil, y2_floor, template)\n",
    "    temp_01 = map_template(y1_floor, y2_ceil, template)\n",
    "    temp_11 = map_template(y1_ceil, y2_ceil, template)\n",
    "    temp = [temp_00, temp_10, temp_01, temp_11]\n",
    "#     xr1 = (x1_rg-x1_floor)\n",
    "#     xr2 = x2_rg-x2_floor\n",
    "#     gen_image = (y_ceil-y_rg) * ((x_ceil - x_rg) * temp_00 + (x_rg - x_floor) * temp_01)\\\n",
    "#                 + (y_rg - y_floor) * ((x_ceil - x_rg) * temp_10 + (x_rg - x_floor) * temp_11)\n",
    "    gen_image = (1-(y1_rg-y1_floor)) * ((1-(y2_rg-y2_floor)) * temp_00 + (y2_rg - y2_floor) * temp_01)\\\n",
    "                + (y1_rg - y1_floor) * ((1-(y2_rg-y2_floor)) * temp_10 + (y2_rg - y2_floor) * temp_11)\n",
    "    dT = getDerivation_Y1Y2(floor_ceil, y1_y2_rg, temp)\n",
    "    return gen_image, dT"
   ]
  },
  {
   "cell_type": "code",
   "execution_count": 7,
   "metadata": {},
   "outputs": [],
   "source": [
    "def map_template(y1_coor, y2_coor, template):\n",
    "    #flat坐标空间，y*N+x\n",
    "    flat = (y1_coor*N + y2_coor).reshape((M*N,))\n",
    "    #将不再坐标范围内的点标记为0\n",
    "    flat[flat>=M*N] = 0\n",
    "    flat[flat<0] = 0\n",
    "    #根据展开的坐标得到转换后的图片\n",
    "    new = np.take(template, flat).reshape((M, N))\n",
    "    #查找rg_trans中不再坐标范围内的点\n",
    "    y1_del_mul = (y1_coor>=0)*(y1_coor<M)\n",
    "    y2_del_mul = (y2_coor>=0)*(y2_coor<N)\n",
    "#     print(x_del_mul)\n",
    "    #将rg_trans中不再坐标空间内的点的值设置为0\n",
    "    new = new * y1_del_mul * y2_del_mul\n",
    "    return new"
   ]
  },
  {
   "cell_type": "code",
   "execution_count": 8,
   "metadata": {},
   "outputs": [],
   "source": [
    "def getDerivation_Y1Y2(floor_ceil, y1_y2_rg, temp):\n",
    "    [y1_rg, y2_rg] = y1_y2_rg\n",
    "    [temp_00, temp_10, temp_01, temp_11] = temp\n",
    "    [y1_floor, y1_ceil, y2_floor, y2_ceil] = floor_ceil\n",
    "    #     yr1 = y1_rg-y1_floor\n",
    "    #     yr2 = y2_rg-y2_floor\n",
    "    dTdy1 = (1 - (y2_rg-y2_floor)) * (temp_10 - temp_00) + (y2_rg-y2_floor) * (temp_11 - temp_01)\n",
    "    dTdy2 = (1 - (y1_rg-y1_floor)) * (temp_01 - temp_00) + (y1_rg-y1_floor) * (temp_11 - temp_10)\n",
    "    return [dTdy1, dTdy2]"
   ]
  },
  {
   "cell_type": "code",
   "execution_count": 29,
   "metadata": {},
   "outputs": [],
   "source": [
    "def getCost(reference, gen_image):\n",
    "    return np.sum(np.power(gen_image - reference, 2))/2"
   ]
  },
  {
   "cell_type": "code",
   "execution_count": 19,
   "metadata": {},
   "outputs": [],
   "source": [
    "def computeGradient(reference, gen_image, dT, grid_r):\n",
    "    [dTdy1, dTdy2]  =dT\n",
    "    grid_x1, grid_x2, _ = np.split(grid_r, [1,2], axis=2)\n",
    "    grid_x1 = grid_x1.squeeze()\n",
    "    grid_x2 = grid_x2.squeeze()\n",
    "    \n",
    "    print(np.sum(np.abs(dTdy1)))\n",
    "\n",
    "    dw1 = np.sum((gen_image - reference) * dTdy1 * grid_x1)\n",
    "    dw2 = np.sum((gen_image - reference) * dTdy1 * grid_x2)\n",
    "    dw3 = np.sum((gen_image - reference) * dTdy1)\n",
    "    \n",
    "    dw4 = np.sum((gen_image - reference) * dTdy2 * grid_x1)\n",
    "    dw5 = np.sum((gen_image - reference) * dTdy2 * grid_x2)\n",
    "    dw6 = np.sum((gen_image - reference) * dTdy2)\n",
    "    \n",
    "    dw = [dw1, dw2, dw3, dw4, dw5, dw6]\n",
    "    return dw"
   ]
  },
  {
   "cell_type": "code",
   "execution_count": 20,
   "metadata": {},
   "outputs": [],
   "source": [
    "#initialize the grid size MxN, M->X, N->Y\n",
    "M=50\n",
    "N=50\n",
    "#initialize the transformation matrix [3, 3]\n",
    "# y1 -> trans_matrix[0]\n",
    "# y2 -> trans_matrix[1]\n",
    "trans_matrix = np.array([[1,0.5,10], [0,1,10], [0,0,1]])"
   ]
  },
  {
   "cell_type": "code",
   "execution_count": 30,
   "metadata": {},
   "outputs": [
    {
     "name": "stdout",
     "output_type": "stream",
     "text": [
      "(50, 50, 2)\n",
      "4000.0\n",
      "cost is 3950000.0\n",
      "Gradient is \n",
      "[-4400000.0, -4800000.0, -200000.0, -9400000.0, -18240000.0, -760000.0]\n"
     ]
    },
    {
     "data": {
      "text/plain": [
       "<matplotlib.image.AxesImage at 0x2a3dcb07b70>"
      ]
     },
     "execution_count": 30,
     "metadata": {},
     "output_type": "execute_result"
    },
    {
     "data": {
      "image/png": "[encoded data removed]",
      "text/plain": [
       "<Figure size 1440x720 with 3 Axes>"
      ]
     },
     "metadata": {},
     "output_type": "display_data"
    }
   ],
   "source": [
    "grid_r = getGrid_r(M, N)\n",
    "rg_trans = getTrans(trans_matrix, grid_r)\n",
    "floor_ceil, y1_y2_rg = getCoordinate(rg_trans)\n",
    "gen_image, dT = bilinear(floor_ceil=floor_ceil, y1_y2_rg=y1_y2_rg, template=template)\n",
    "cost = getCost(reference, gen_image)\n",
    "gradient = computeGradient(reference=reference, gen_image=gen_image, dT=dT, grid_r=grid_r)\n",
    "print(\"cost is \" + str(cost))\n",
    "print(\"Gradient is \")\n",
    "print(gradient)\n",
    "fig, (ax0, ax1, ax2) = plt.subplots(1, 3, figsize=(20, 10))\n",
    "ax0.imshow(dT[0])\n",
    "ax1.imshow(dT[1])\n",
    "ax2.imshow(gen_image)"
   ]
  },
  {
   "cell_type": "code",
   "execution_count": 47,
   "metadata": {},
   "outputs": [],
   "source": [
    "def testGradient(M, N, trans_matrix, e):\n",
    "    grid_r = getGrid_r(M, N)\n",
    "    rg_trans = getTrans(trans_matrix, grid_r)\n",
    "    floor_ceil, y1_y2_rg = getCoordinate(rg_trans)\n",
    "    gen_image, dT = bilinear(floor_ceil=floor_ceil, y1_y2_rg=y1_y2_rg, template=template)\n",
    "    cost = getCost(reference, gen_image)\n",
    "    gradient = computeGradient(reference=reference, gen_image=gen_image, dT=dT, grid_r=grid_r)\n",
    "    \n",
    "    trans_matrix_ = np.array([[1+e,0.5,10], [0,1,10], [0,0,1]])\n",
    "    grid_r = getGrid_r(M, N)\n",
    "    rg_trans = getTrans(trans_matrix_, grid_r)\n",
    "    floor_ceil, y1_y2_rg = getCoordinate(rg_trans)\n",
    "    gen_image, dT = bilinear(floor_ceil=floor_ceil, y1_y2_rg=y1_y2_rg, template=template)\n",
    "    cost_1 = getCost(reference, gen_image)\n",
    "    \n",
    "    trans_matrix_ = np.array([[1,0.5+e,10], [0,1,10], [0,0,1]])\n",
    "    grid_r = getGrid_r(M, N)\n",
    "    rg_trans = getTrans(trans_matrix_, grid_r)\n",
    "    floor_ceil, y1_y2_rg = getCoordinate(rg_trans)\n",
    "    gen_image, dT = bilinear(floor_ceil=floor_ceil, y1_y2_rg=y1_y2_rg, template=template)\n",
    "    cost_2 = getCost(reference, gen_image)\n",
    "    \n",
    "    trans_matrix_ = np.array([[1,0.5,10+e], [0,1,10], [0,0,1]])\n",
    "    grid_r = getGrid_r(M, N)\n",
    "    rg_trans = getTrans(trans_matrix_, grid_r)\n",
    "    floor_ceil, y1_y2_rg = getCoordinate(rg_trans)\n",
    "    gen_image, dT = bilinear(floor_ceil=floor_ceil, y1_y2_rg=y1_y2_rg, template=template)\n",
    "    cost_3 = getCost(reference, gen_image)\n",
    "    \n",
    "    trans_matrix_ = np.array([[1,0.5,10], [0+e,1,10], [0,0,1]])\n",
    "    grid_r = getGrid_r(M, N)\n",
    "    rg_trans = getTrans(trans_matrix_, grid_r)\n",
    "    floor_ceil, y1_y2_rg = getCoordinate(rg_trans)\n",
    "    gen_image, dT = bilinear(floor_ceil=floor_ceil, y1_y2_rg=y1_y2_rg, template=template)\n",
    "    cost_4 = getCost(reference, gen_image)\n",
    "    \n",
    "    trans_matrix_ = np.array([[1,0.5,10], [0,1+e,10], [0,0,1]])\n",
    "    grid_r = getGrid_r(M, N)\n",
    "    rg_trans = getTrans(trans_matrix_, grid_r)\n",
    "    floor_ceil, y1_y2_rg = getCoordinate(rg_trans)\n",
    "    gen_image, dT = bilinear(floor_ceil=floor_ceil, y1_y2_rg=y1_y2_rg, template=template)\n",
    "    cost_5 = getCost(reference, gen_image)\n",
    "    \n",
    "    trans_matrix_ = np.array([[1,0.5,10], [0,1,10+e], [0,0,1]])\n",
    "    grid_r = getGrid_r(M, N)\n",
    "    rg_trans = getTrans(trans_matrix_, grid_r)\n",
    "    floor_ceil, y1_y2_rg = getCoordinate(rg_trans)\n",
    "    gen_image, dT = bilinear(floor_ceil=floor_ceil, y1_y2_rg=y1_y2_rg, template=template)\n",
    "    cost_6 = getCost(reference, gen_image)\n",
    "    \n",
    "    nu_dw1 = (cost_1 - cost) / e\n",
    "    nu_dw2 = (cost_2 - cost) / e\n",
    "    nu_dw3 = (cost_3 - cost) / e\n",
    "    nu_dw4 = (cost_4 - cost) / e\n",
    "    nu_dw5 = (cost_5 - cost) / e\n",
    "    nu_dw6 = (cost_6 - cost) / e\n",
    "    \n",
    "    nu_gradient = np.array([nu_dw1, nu_dw2, nu_dw3, nu_dw4, nu_dw5, nu_dw6])\n",
    "    error_ratio = (nu_gradient - gradient) / gradient\n",
    "    \n",
    "    print(\"derivative gradient is \")\n",
    "    print(gradient)\n",
    "    print('\\n')\n",
    "    print(\"numerical gradient is \")\n",
    "    print(nu_gradient)\n",
    "    print('\\n')\n",
    "    print(\"error ratio is \")\n",
    "    print(error_ratio)"
   ]
  },
  {
   "cell_type": "code",
   "execution_count": 51,
   "metadata": {},
   "outputs": [
    {
     "name": "stdout",
     "output_type": "stream",
     "text": [
      "(50, 50, 2)\n",
      "4000.0\n",
      "(50, 50, 2)\n",
      "(50, 50, 2)\n",
      "(50, 50, 2)\n",
      "(50, 50, 2)\n",
      "(50, 50, 2)\n",
      "(50, 50, 2)\n",
      "derivative gradient is \n",
      "[-11600000.0, -9800000.0, -400000.0, -9800000.0, -11600000.0, -400000.0]\n",
      "\n",
      "\n",
      "numerical gradient is \n",
      "[-54331599.99999963 -54556599.99999916 -50199599.99999963\n",
      " -59335349.99999963 -68011619.99999824 -50759619.99999825]\n",
      "\n",
      "\n",
      "error ratio is \n",
      "[  3.68375862   4.567      124.499        5.05462755   4.86307069\n",
      " 125.89905   ]\n"
     ]
    }
   ],
   "source": [
    "trans_matrix = np.array([[1,0,10], [0,1,10], [0,0,1]])\n",
    "testGradient(M, N, trans_matrix, e = 1e-3)"
   ]
  },
  {
   "cell_type": "code",
   "execution_count": null,
   "metadata": {},
   "outputs": [],
   "source": []
  }
 ],
 "metadata": {
  "kernelspec": {
   "display_name": "Python 3",
   "language": "python",
   "name": "python3"
  },
  "language_info": {
   "codemirror_mode": {
    "name": "ipython",
    "version": 3
   },
   "file_extension": ".py",
   "mimetype": "text/x-python",
   "name": "python",
   "nbconvert_exporter": "python",
   "pygments_lexer": "ipython3",
   "version": "3.6.6"
  }
 },
 "nbformat": 4,
 "nbformat_minor": 2
}
